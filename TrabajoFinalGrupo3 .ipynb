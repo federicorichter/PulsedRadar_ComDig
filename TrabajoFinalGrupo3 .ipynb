{
 "cells": [
  {
   "cell_type": "markdown",
   "id": "55f619e4",
   "metadata": {},
   "source": [
    "# Generando un tren de pulsos de radar pulsado"
   ]
  },
  {
   "cell_type": "markdown",
   "id": "152b0239",
   "metadata": {},
   "source": [
    "Un radar pulsado es aquel capaz de medir tanto rango (distancia) como velocidad, haciendo uso de la transmisión de un pulso y leyendo el reflejo del mismo en alguna superficie. El pulso reflejado tardara un determinado delta de tiempo (diferencia entre que se transmite y se recibe) el cual hace valer la siguiente expresión:   \n",
    " ### <center> $R = \\frac{\\Delta t*c}{2}$            \n",
    "  Donde $R$ es el rango y $c$ es la velocidad de propagación de la onda, que al ser electromagnética corresponde a la velocidad de la luz. Con esta información y midiendo el $\\Delta t$, podemos calcular una estimación del rango."
   ]
  },
  {
   "cell_type": "code",
   "execution_count": 32,
   "id": "f1fcdc52",
   "metadata": {},
   "outputs": [],
   "source": [
    "import adi\n",
    "import numpy as np\n",
    "from commpy.filters import rrcosfilter\n",
    "from sk_dsp_comm import digitalcom as dc\n",
    "import scipy.signal as signal\n",
    "import matplotlib.pyplot as plt\n",
    "from scipy.fftpack import fftfreq"
   ]
  },
  {
   "cell_type": "code",
   "execution_count": 33,
   "id": "cb5e923b",
   "metadata": {},
   "outputs": [],
   "source": [
    "#------------------------------- SDR Parameter Configuration -------------------------------\n",
    "\n",
    "Uri              = \"ip:192.168.1.34\" \n",
    "SamplingRate     = 4e6           # Sample rate RX and TX paths[Samples/Sec]\n",
    "Loopback         = 1           # 0=Disabled, 1=Digital, 2=RF\n",
    "\n",
    "TxLOFreq         = 918e6         # Carrier frequency of TX path [Hz] RELLENAR CON LA FREC. DE PORTADORA ASIGNADA\n",
    "TxAtten          = -30           # Attenuation applied to TX path, valid range is -90 to 0 dB [dB]\n",
    "TxRfBw           = 4e6           # Bandwidth of front-end analog filter of TX path [Hz]\n",
    "\n",
    "RxLOFreq         = TxLOFreq      # Carrier frequency of RX path [Hz]\n",
    "GainControlModes = \"slow_attack\" # Receive path AGC Options: slow_attack, fast_attack, manual\n",
    "RxHardwareGain   = 0             # Gain applied to RX path. Only applicable when gain_control_mode is set to 'manual'    \n",
    "RxRfBw           = TxRfBw        # Bandwidth of front-end analog filter of RX path [Hz] \n",
    "RxBufferSize     = 2**20-1"
   ]
  },
  {
   "cell_type": "markdown",
   "id": "f2cf6be1",
   "metadata": {},
   "source": [
    "Definimos variables como el PRI (pulse repetition interval) y su inversa, PRF (pulse repetition frequency). Por otro lado, determinamos la frecuencia de sampling y de transmisión dentro del pulso. El valor del PRI nos dará el rango máximo calculable por nuestro radar, ya que, nuestro pulso debe ser transmitido y recibido antes de volver a transmitir el segundo pulso. Es por esto que la máxima distancia calculable es:   \n",
    "### <center> $Max Range = \\frac{c}{2} * PRI $.\n",
    "\n",
    "En nuestro caso, la distancia máxima es de 150000 [m] o 150 [km] para un PRI de 0.001 [s] y una PRF de 1[kHz]."
   ]
  },
  {
   "cell_type": "code",
   "execution_count": 34,
   "id": "7d88696f",
   "metadata": {},
   "outputs": [],
   "source": [
    "PRI = 0.001 #[s] \n",
    "PRF = 1/PRI\n",
    "potencia_señal = 1\n",
    "\n",
    "beta = 0.3\n",
    "sps = 8 \n",
    "span = 6\n",
    "\n",
    "sample_f = SamplingRate\n",
    "step = 1/SamplingRate\n",
    "f1 = 500e3\n",
    "samples = int(100* sample_f/f1)\n",
    "samples = 50*int(PRI/step)"
   ]
  },
  {
   "cell_type": "markdown",
   "id": "b7734f04",
   "metadata": {},
   "source": [
    "En las siguientes celdas generamos nuestra señal a transmitir ,nuestro vector de tiempo y se realiza la configuración de la SDR haciendo uso de la libreria adi."
   ]
  },
  {
   "cell_type": "markdown",
   "id": "aecb91b7",
   "metadata": {},
   "source": [
    "\\begin{equation}\n",
    "    Tx_I = \\sin(2* \\pi * f_1 * t)\n",
    "\\end{equation}\n",
    "\n",
    "\\begin{equation}\n",
    "    Tx_Q = \\sin(2* \\pi * f_1 * t)\n",
    "\\end{equation}"
   ]
  },
  {
   "cell_type": "code",
   "execution_count": 35,
   "id": "1e5d1868",
   "metadata": {},
   "outputs": [],
   "source": [
    "t = np.linspace(0,(samples-1)*step,samples)\n",
    "pulse_length = 0.00005 #[s] => 0.5 ms\n",
    "Tx_I = 10*np.sin(2*np.pi*f1*t) + 10\n",
    "#Tx_Q = np.sin(2*np.pi*f1*t + np.pi/2)\n",
    "zeros = np.zeros(len(t))\n",
    "ones = np.ones(int(pulse_length/step))\n",
    "\n",
    "for i in range(0,len(Tx_I),int(PRI/step)):\n",
    "      zeros[i:i+len(ones)] = ones"
   ]
  },
  {
   "cell_type": "code",
   "execution_count": 36,
   "id": "b6e6a0d4",
   "metadata": {},
   "outputs": [],
   "source": [
    "Tx_I = Tx_I * zeros # parte real de la señal\n",
    "Tx_Q = Tx_Q * zeros #parte imaginaria\n",
    "Tx = Tx_I + 1j * Tx_Q"
   ]
  },
  {
   "cell_type": "code",
   "execution_count": 136,
   "id": "9a74c312",
   "metadata": {},
   "outputs": [
    {
     "ename": "Exception",
     "evalue": "No device found",
     "output_type": "error",
     "traceback": [
      "\u001b[0;31m---------------------------------------------------------------------------\u001b[0m",
      "\u001b[0;31mOSError\u001b[0m                                   Traceback (most recent call last)",
      "File \u001b[0;32m~/.local/lib/python3.9/site-packages/adi/context_manager.py:65\u001b[0m, in \u001b[0;36mcontext_manager.__init__\u001b[0;34m(self, uri, _device_name)\u001b[0m\n\u001b[1;32m     64\u001b[0m     \u001b[38;5;28;01melse\u001b[39;00m:\n\u001b[0;32m---> 65\u001b[0m         \u001b[38;5;28mself\u001b[39m\u001b[38;5;241m.\u001b[39m_ctx \u001b[38;5;241m=\u001b[39m \u001b[43miio\u001b[49m\u001b[38;5;241;43m.\u001b[39;49m\u001b[43mContext\u001b[49m\u001b[43m(\u001b[49m\u001b[38;5;28;43mself\u001b[39;49m\u001b[38;5;241;43m.\u001b[39;49m\u001b[43muri\u001b[49m\u001b[43m)\u001b[49m\n\u001b[1;32m     66\u001b[0m \u001b[38;5;28;01mexcept\u001b[39;00m \u001b[38;5;167;01mBaseException\u001b[39;00m:\n",
      "File \u001b[0;32m~/.local/lib/python3.9/site-packages/iio.py:1358\u001b[0m, in \u001b[0;36mContext.__init__\u001b[0;34m(self, _context)\u001b[0m\n\u001b[1;32m   1357\u001b[0m \u001b[38;5;28;01melif\u001b[39;00m _isstring(_context):\n\u001b[0;32m-> 1358\u001b[0m     \u001b[38;5;28mself\u001b[39m\u001b[38;5;241m.\u001b[39m_context \u001b[38;5;241m=\u001b[39m \u001b[43m_new_uri\u001b[49m\u001b[43m(\u001b[49m\u001b[43m_context\u001b[49m\u001b[38;5;241;43m.\u001b[39;49m\u001b[43mencode\u001b[49m\u001b[43m(\u001b[49m\u001b[38;5;124;43m\"\u001b[39;49m\u001b[38;5;124;43mascii\u001b[39;49m\u001b[38;5;124;43m\"\u001b[39;49m\u001b[43m)\u001b[49m\u001b[43m)\u001b[49m\n\u001b[1;32m   1359\u001b[0m \u001b[38;5;28;01melse\u001b[39;00m:\n",
      "File \u001b[0;32m~/.local/lib/python3.9/site-packages/iio.py:56\u001b[0m, in \u001b[0;36m_check_null\u001b[0;34m(result, func, arguments)\u001b[0m\n\u001b[1;32m     55\u001b[0m err \u001b[38;5;241m=\u001b[39m get_last_error() \u001b[38;5;28;01mif\u001b[39;00m \u001b[38;5;124m\"\u001b[39m\u001b[38;5;124mWindows\u001b[39m\u001b[38;5;124m\"\u001b[39m \u001b[38;5;129;01min\u001b[39;00m _system() \u001b[38;5;28;01melse\u001b[39;00m get_errno()\n\u001b[0;32m---> 56\u001b[0m \u001b[38;5;28;01mraise\u001b[39;00m \u001b[38;5;167;01mOSError\u001b[39;00m(err, _strerror(err))\n",
      "\u001b[0;31mOSError\u001b[0m: [Errno 113] No route to host",
      "\nDuring handling of the above exception, another exception occurred:\n",
      "\u001b[0;31mException\u001b[0m                                 Traceback (most recent call last)",
      "Input \u001b[0;32mIn [136]\u001b[0m, in \u001b[0;36m<cell line: 2>\u001b[0;34m()\u001b[0m\n\u001b[1;32m      1\u001b[0m \u001b[38;5;66;03m#-----------------------------------SDR Configurations-------------------------------\u001b[39;00m\n\u001b[0;32m----> 2\u001b[0m sdr             \u001b[38;5;241m=\u001b[39m \u001b[43madi\u001b[49m\u001b[38;5;241;43m.\u001b[39;49m\u001b[43mPluto\u001b[49m\u001b[43m(\u001b[49m\u001b[43mUri\u001b[49m\u001b[43m)\u001b[49m\n\u001b[1;32m      3\u001b[0m sdr\u001b[38;5;241m.\u001b[39msample_rate \u001b[38;5;241m=\u001b[39m SamplingRate\n\u001b[1;32m      4\u001b[0m sdr\u001b[38;5;241m.\u001b[39mloopback    \u001b[38;5;241m=\u001b[39m Loopback\n",
      "File \u001b[0;32m~/.local/lib/python3.9/site-packages/adi/rx_tx.py:746\u001b[0m, in \u001b[0;36mrx_tx_def.__init__\u001b[0;34m(self, *args, **kwargs)\u001b[0m\n\u001b[1;32m    743\u001b[0m \u001b[38;5;28;01mdef\u001b[39;00m \u001b[38;5;21m__init__\u001b[39m(\n\u001b[1;32m    744\u001b[0m     \u001b[38;5;28mself\u001b[39m, \u001b[38;5;241m*\u001b[39margs: Union[\u001b[38;5;28mstr\u001b[39m, iio\u001b[38;5;241m.\u001b[39mContext], \u001b[38;5;241m*\u001b[39m\u001b[38;5;241m*\u001b[39mkwargs: Union[\u001b[38;5;28mstr\u001b[39m, iio\u001b[38;5;241m.\u001b[39mContext]\n\u001b[1;32m    745\u001b[0m ) \u001b[38;5;241m-\u001b[39m\u001b[38;5;241m>\u001b[39m \u001b[38;5;28;01mNone\u001b[39;00m:\n\u001b[0;32m--> 746\u001b[0m     \u001b[43mrx_def\u001b[49m\u001b[38;5;241;43m.\u001b[39;49m\u001b[38;5;21;43m__init__\u001b[39;49m\u001b[43m(\u001b[49m\u001b[38;5;28;43mself\u001b[39;49m\u001b[43m,\u001b[49m\u001b[43m \u001b[49m\u001b[38;5;241;43m*\u001b[39;49m\u001b[43margs\u001b[49m\u001b[43m,\u001b[49m\u001b[43m \u001b[49m\u001b[38;5;241;43m*\u001b[39;49m\u001b[38;5;241;43m*\u001b[39;49m\u001b[43mkwargs\u001b[49m\u001b[43m)\u001b[49m\n\u001b[1;32m    747\u001b[0m     tx_def\u001b[38;5;241m.\u001b[39m\u001b[38;5;21m__init__\u001b[39m(\u001b[38;5;28mself\u001b[39m, \u001b[38;5;241m*\u001b[39margs, \u001b[38;5;241m*\u001b[39m\u001b[38;5;241m*\u001b[39mkwargs)\n\u001b[1;32m    749\u001b[0m     \u001b[38;5;28mself\u001b[39m\u001b[38;5;241m.\u001b[39m__post_init__()\n",
      "File \u001b[0;32m~/.local/lib/python3.9/site-packages/adi/rx_tx.py:665\u001b[0m, in \u001b[0;36mrx_def.__init__\u001b[0;34m(self, *args, **kwargs)\u001b[0m\n\u001b[1;32m    661\u001b[0m \u001b[38;5;28;01mdef\u001b[39;00m \u001b[38;5;21m__init__\u001b[39m(\n\u001b[1;32m    662\u001b[0m     \u001b[38;5;28mself\u001b[39m, \u001b[38;5;241m*\u001b[39margs: Union[\u001b[38;5;28mstr\u001b[39m, iio\u001b[38;5;241m.\u001b[39mContext], \u001b[38;5;241m*\u001b[39m\u001b[38;5;241m*\u001b[39mkwargs: Union[\u001b[38;5;28mstr\u001b[39m, iio\u001b[38;5;241m.\u001b[39mContext]\n\u001b[1;32m    663\u001b[0m ) \u001b[38;5;241m-\u001b[39m\u001b[38;5;241m>\u001b[39m \u001b[38;5;28;01mNone\u001b[39;00m:\n\u001b[0;32m--> 665\u001b[0m     \u001b[43mshared_def\u001b[49m\u001b[38;5;241;43m.\u001b[39;49m\u001b[38;5;21;43m__init__\u001b[39;49m\u001b[43m(\u001b[49m\u001b[38;5;28;43mself\u001b[39;49m\u001b[43m,\u001b[49m\u001b[43m \u001b[49m\u001b[38;5;241;43m*\u001b[39;49m\u001b[43margs\u001b[49m\u001b[43m,\u001b[49m\u001b[43m \u001b[49m\u001b[38;5;241;43m*\u001b[39;49m\u001b[38;5;241;43m*\u001b[39;49m\u001b[43mkwargs\u001b[49m\u001b[43m)\u001b[49m\n\u001b[1;32m    667\u001b[0m     \u001b[38;5;28;01mif\u001b[39;00m \u001b[38;5;28mself\u001b[39m\u001b[38;5;241m.\u001b[39m_rx_data_device_name:\n\u001b[1;32m    668\u001b[0m         \u001b[38;5;28mself\u001b[39m\u001b[38;5;241m.\u001b[39m_rxadc \u001b[38;5;241m=\u001b[39m \u001b[38;5;28mself\u001b[39m\u001b[38;5;241m.\u001b[39m_ctx\u001b[38;5;241m.\u001b[39mfind_device(\u001b[38;5;28mself\u001b[39m\u001b[38;5;241m.\u001b[39m_rx_data_device_name)\n",
      "File \u001b[0;32m~/.local/lib/python3.9/site-packages/adi/rx_tx.py:615\u001b[0m, in \u001b[0;36mshared_def.__init__\u001b[0;34m(self, *args, **kwargs)\u001b[0m\n\u001b[1;32m    613\u001b[0m \u001b[38;5;28;01melif\u001b[39;00m uri_ctx:\n\u001b[1;32m    614\u001b[0m     \u001b[38;5;28mself\u001b[39m\u001b[38;5;241m.\u001b[39muri \u001b[38;5;241m=\u001b[39m uri_ctx\n\u001b[0;32m--> 615\u001b[0m     \u001b[43mcontext_manager\u001b[49m\u001b[38;5;241;43m.\u001b[39;49m\u001b[38;5;21;43m__init__\u001b[39;49m\u001b[43m(\u001b[49m\u001b[38;5;28;43mself\u001b[39;49m\u001b[43m,\u001b[49m\u001b[43m \u001b[49m\u001b[43muri_ctx\u001b[49m\u001b[43m,\u001b[49m\u001b[43m \u001b[49m\u001b[38;5;28;43mself\u001b[39;49m\u001b[38;5;241;43m.\u001b[39;49m\u001b[43m_device_name\u001b[49m\u001b[43m)\u001b[49m\n\u001b[1;32m    616\u001b[0m \u001b[38;5;28;01melse\u001b[39;00m:\n\u001b[1;32m    617\u001b[0m     required_devices \u001b[38;5;241m=\u001b[39m [\u001b[38;5;28mself\u001b[39m\u001b[38;5;241m.\u001b[39m_rx_data_device_name, \u001b[38;5;28mself\u001b[39m\u001b[38;5;241m.\u001b[39m_control_device_name]\n",
      "File \u001b[0;32m~/.local/lib/python3.9/site-packages/adi/context_manager.py:67\u001b[0m, in \u001b[0;36mcontext_manager.__init__\u001b[0;34m(self, uri, _device_name)\u001b[0m\n\u001b[1;32m     65\u001b[0m         \u001b[38;5;28mself\u001b[39m\u001b[38;5;241m.\u001b[39m_ctx \u001b[38;5;241m=\u001b[39m iio\u001b[38;5;241m.\u001b[39mContext(\u001b[38;5;28mself\u001b[39m\u001b[38;5;241m.\u001b[39muri)\n\u001b[1;32m     66\u001b[0m \u001b[38;5;28;01mexcept\u001b[39;00m \u001b[38;5;167;01mBaseException\u001b[39;00m:\n\u001b[0;32m---> 67\u001b[0m     \u001b[38;5;28;01mraise\u001b[39;00m \u001b[38;5;167;01mException\u001b[39;00m(\u001b[38;5;124m\"\u001b[39m\u001b[38;5;124mNo device found\u001b[39m\u001b[38;5;124m\"\u001b[39m)\n",
      "\u001b[0;31mException\u001b[0m: No device found"
     ]
    }
   ],
   "source": [
    "#-----------------------------------SDR Configurations-------------------------------\n",
    "sdr             = adi.Pluto(Uri)\n",
    "sdr.sample_rate = SamplingRate\n",
    "sdr.loopback    = Loopback\n",
    "#Tx:\n",
    "sdr.tx_lo                 = int(TxLOFreq)\n",
    "sdr.tx_hardwaregain_chan0 = TxAtten \n",
    "sdr.tx_rf_bandwidth       = int(TxRfBw)\n",
    "sdr.tx_buffer_size        = samples\n",
    "sdr.tx_cyclic_buffer      = True\n",
    "# Rx:\n",
    "sdr.rx_lo                   = int(RxLOFreq)\n",
    "sdr.gain_control_mode_chan0 = GainControlModes\n",
    "sdr.rx_rf_bandwidth         = int(RxRfBw)\n",
    "sdr.rx_cyclic_buffer        = False\n",
    "sdr.rx_buffer_size          = RxBufferSize\n",
    "sdr.rx_enabled_channels = [0]"
   ]
  },
  {
   "cell_type": "markdown",
   "id": "877444fa",
   "metadata": {},
   "source": [
    "# Transmisión y Recepción"
   ]
  },
  {
   "cell_type": "code",
   "execution_count": null,
   "id": "3e8b42ec",
   "metadata": {
    "scrolled": false
   },
   "outputs": [],
   "source": [
    "#------------------------------- Transmitter ------------------------------- \n",
    "\n",
    "sdr.tx(Tx_I*2**14)"
   ]
  },
  {
   "cell_type": "code",
   "execution_count": 7,
   "id": "9b1b81bf",
   "metadata": {},
   "outputs": [
    {
     "ename": "NameError",
     "evalue": "name 'sdr' is not defined",
     "output_type": "error",
     "traceback": [
      "\u001b[0;31m---------------------------------------------------------------------------\u001b[0m",
      "\u001b[0;31mNameError\u001b[0m                                 Traceback (most recent call last)",
      "Input \u001b[0;32mIn [7]\u001b[0m, in \u001b[0;36m<cell line: 2>\u001b[0;34m()\u001b[0m\n\u001b[1;32m      1\u001b[0m \u001b[38;5;66;03m#------------------------------- Receiver ------------------------------- \u001b[39;00m\n\u001b[0;32m----> 2\u001b[0m rxSignal \u001b[38;5;241m=\u001b[39m \u001b[43msdr\u001b[49m\u001b[38;5;241m.\u001b[39mrx()\u001b[38;5;241m/\u001b[39m\u001b[38;5;241m2\u001b[39m\u001b[38;5;241m*\u001b[39m\u001b[38;5;241m*\u001b[39m\u001b[38;5;241m14\u001b[39m\n\u001b[1;32m      4\u001b[0m rows, cols \u001b[38;5;241m=\u001b[39m (\u001b[38;5;241m10\u001b[39m, \u001b[38;5;28mint\u001b[39m(PRI\u001b[38;5;241m/\u001b[39mstep))\n\u001b[1;32m      5\u001b[0m recieved_signal \u001b[38;5;241m=\u001b[39m [[\u001b[38;5;241m0\u001b[39m \u001b[38;5;28;01mfor\u001b[39;00m i \u001b[38;5;129;01min\u001b[39;00m \u001b[38;5;28mrange\u001b[39m(cols)] \u001b[38;5;28;01mfor\u001b[39;00m j \u001b[38;5;129;01min\u001b[39;00m \u001b[38;5;28mrange\u001b[39m(rows)] \n",
      "\u001b[0;31mNameError\u001b[0m: name 'sdr' is not defined"
     ]
    }
   ],
   "source": [
    "#------------------------------- Receiver ------------------------------- \n",
    "rxSignal = sdr.rx()/2**14\n",
    "\n",
    "rows, cols = (10, int(PRI/step))\n",
    "recieved_signal = [[0 for i in range(cols)] for j in range(rows)] \n",
    "for i in range(rows):\n",
    "    recieved_signal[i] = rxSignal[i*int(PRI/step):i*int(PRI/step)+int(PRI/step)]"
   ]
  },
  {
   "cell_type": "markdown",
   "id": "e7c71116",
   "metadata": {},
   "source": [
    "Luego de transmitir la señal, utilizamos la antena receptora para hacer la lectura correspondiente del pulso reflejado. En este caso tomamos de a 10 muestras de la señal reflejada guardadas en una matriz con 10 filas y n columnas, siendo n igual a la cantidad de muestras que hay en un determinado pulso (equivalente al tiempo PRI)."
   ]
  },
  {
   "cell_type": "markdown",
   "id": "d4d774ee",
   "metadata": {},
   "source": [
    "### Simulación "
   ]
  },
  {
   "cell_type": "markdown",
   "id": "d5748d3f",
   "metadata": {},
   "source": [
    "Se trata de recrear la situación de recepción de acuerdo a la distancia a la que estaria un determinado objeto con su correspondiente retarto, ruido y atenuación"
   ]
  },
  {
   "cell_type": "code",
   "execution_count": 44,
   "id": "473ed398",
   "metadata": {},
   "outputs": [
    {
     "name": "stdout",
     "output_type": "stream",
     "text": [
      "3.3356409519815205e-05\n"
     ]
    }
   ],
   "source": [
    "#Reflected pulse\n",
    "distance = 5000 #[m]\n",
    "returned_pulse = (1/distance**2)*Tx_I[:int(pulse_length/step)+1] #Se guarda un pulso de los transmitidos con su atenuación\n",
    "ret_pulse = np.ones(len(returned_pulse))\n",
    "for i in range(len(returned_pulse)):\n",
    "    ret_pulse[i] = returned_pulse[len(returned_pulse)-1-i] #Se guarda el pulso reflejado\n",
    "\n",
    "delta_t = (distance*2/299792458) #Calculo del delta t correspondiente\n",
    "print(delta_t)\n",
    "Rx_I = np.zeros(50*int(PRI/step)+1) #10 pulsos recibidos\n",
    "sample_shift = int(delta_t/step) #Cuantas muestras se debe shiftear el pulso recibido de acuerdo a la distancia que representa\n",
    "\n",
    "for i in range(50):\n",
    "    Rx_I[i*int(PRI/step)+sample_shift:i*int(PRI/step)+sample_shift+int(pulse_length/step)+1] = ret_pulse #Señal shifteada\n",
    "\n",
    "snr_dB = 8  # SNR en decibelios\n",
    "snr_linear = 10 ** (snr_dB / 10.0)  # Convertir SNR a escala lineal\n",
    "\n",
    "# Generar ruido gaussiano\n",
    "potencia_ruido = np.var(Tx_I) / snr_linear\n",
    "ruido = np.random.normal(0, np.sqrt(potencia_ruido), len(t)+1)\n",
    "    \n",
    "Rx_I = Rx_I + ruido #Se le agrega ruido"
   ]
  },
  {
   "cell_type": "markdown",
   "id": "400ba382",
   "metadata": {},
   "source": [
    "### Transformada Rápida de Fourier (FFT)"
   ]
  },
  {
   "cell_type": "code",
   "execution_count": 45,
   "id": "f56b8410",
   "metadata": {},
   "outputs": [],
   "source": [
    "#FFT\n",
    "f_f_salida = np.abs(np.fft.fft(Tx_I))/samples\n",
    "f_plot = 2 * f_f_salida[0:int(samples/2+1)]\n",
    "f_plot[0] = f_plot[0]/2\n",
    "f_step = sample_f/samples\n",
    "frec = np.linspace(0,(samples-1)*f_step,samples)\n",
    "frec_plot = frec[0:int(samples/2+1)]"
   ]
  },
  {
   "cell_type": "markdown",
   "id": "cdf5e62e",
   "metadata": {},
   "source": [
    "### Matched Filter\n",
    "Hacemos uso de un matched filter con respuesta al impulso igual al pulso transmitido y hacemos convolucionar la señal recibida con el mismo. Esto para mejorar la relación señal ruido (SNR), ya que es mucho mayor la correlación entre el pulso y las partes de la señal recibida equivalentes al pulso reflejado que al ruido, amplificando mucho mas la señal y haciendo más fácil su lectura. Además, sabemos que la señal recibida presenta una gran atenuación frente a la transmitida debido a la pérdida de energía en el traslado de la misma o de la distancia al objeto reflector."
   ]
  },
  {
   "cell_type": "code",
   "execution_count": 46,
   "id": "5e3a5dbe",
   "metadata": {},
   "outputs": [],
   "source": [
    "#Matched filter used to maximize SNR ratio\n",
    "def matched_filter(pulse,signal):\n",
    "    #debo conjugar la señal o utilizar el pulso conjugado\n",
    "    return np.convolve(np.conjugate(pulse),signal)\n",
    "rows, cols = (50, int(PRI/step))\n",
    "con =  [[0 for i in range(cols)] for j in range(rows)]\n",
    "for i in range(rows):\n",
    "       con[i] = matched_filter(Tx_I[0:int(PRI/step)+1],Rx_I[i*int(PRI/step):i*int(PRI/step)+int(PRI/step)])\n"
   ]
  },
  {
   "cell_type": "markdown",
   "id": "a3261cf3",
   "metadata": {},
   "source": [
    "### Cálculo y estimación del rango\n",
    "Haciendo uso de las 10 muestras tomadas, y de hacer pasar la señal recibida por el matched filter, es tiempo de calcular los distintos $\\Delta t$ para cada muestra. Luego de hacer esto se calcula la media y se determina el valor estimado por el radar."
   ]
  },
  {
   "cell_type": "code",
   "execution_count": 47,
   "id": "198c4c17",
   "metadata": {},
   "outputs": [
    {
     "name": "stdout",
     "output_type": "stream",
     "text": [
      "Stimated delta time: 0.0014306850000000001[s]\n",
      "Stimated range: 214454.28638686502[m]\n"
     ]
    }
   ],
   "source": [
    "#Delta time detector\n",
    "#max = rxSignal[0]\n",
    "index_max_j = 0\n",
    "max_con = []            \n",
    "for i in range(rows):\n",
    "    max_i = 0\n",
    "    for j in range(len(con[i])):\n",
    "        if(con[i][j]>max_i):\n",
    "            max_i = con[i][j]\n",
    "            index_max_j = j - int(pulse_length/step)\n",
    "    max_con.append(t[index_max_j])\n",
    "\n",
    "stimation_delta_t = sum(max_con)/len(max_con)\n",
    "print(\"Stimated delta time: \" + str(stimation_delta_t) + \"[s]\")\n",
    "stimation_range = stimation_delta_t*299792458/2\n",
    "print(\"Stimated range: \" + str(stimation_range) + \"[m]\")"
   ]
  },
  {
   "cell_type": "markdown",
   "id": "b9097380",
   "metadata": {},
   "source": [
    "### Gráfico: varianza en la estimación del rango vs SNR "
   ]
  },
  {
   "cell_type": "markdown",
   "id": "a43eda64",
   "metadata": {},
   "source": [
    "### Gráficos de la señal"
   ]
  },
  {
   "cell_type": "code",
   "execution_count": 85,
   "id": "cddace78",
   "metadata": {
    "scrolled": true
   },
   "outputs": [
    {
     "name": "stdout",
     "output_type": "stream",
     "text": [
      "0.411319775\n",
      "2.0\n",
      "0.41860049999999993\n",
      "2.5\n",
      "0.44684468125000004\n",
      "3.0\n",
      "0.2796849749999999\n",
      "3.5\n",
      "0.6136980062500001\n",
      "4.0\n",
      "0.6211970249999998\n",
      "4.5\n",
      "0.9871281812499999\n",
      "5.0\n",
      "1.0773685062499998\n",
      "5.5\n",
      "1.0020947562499998\n",
      "6.0\n",
      "0.8114341812499997\n",
      "6.5\n",
      "0.46709022499999986\n",
      "7.0\n",
      "0.86764243125\n",
      "7.5\n",
      "0.7063465562499999\n",
      "8.0\n",
      "0.4442803499999999\n",
      "8.5\n",
      "0.61344285\n",
      "9.0\n",
      "0.54062775\n",
      "9.5\n",
      "0.6739818750000001\n",
      "10.0\n",
      "0.8456646312499999\n",
      "10.5\n",
      "0.6073743999999998\n",
      "11.0\n",
      "0.7042944749999999\n",
      "11.5\n",
      "0.8434917499999999\n",
      "12.0\n",
      "0.8873501499999998\n",
      "12.5\n",
      "0.80057075625\n",
      "13.0\n",
      "0.91077238125\n",
      "13.5\n",
      "1.3832225062499999\n",
      "14.0\n",
      "2194.7671321000007\n",
      "14.5\n",
      "2224.86710463125\n",
      "15.0\n",
      "1.0045430062499998\n",
      "15.5\n",
      "0.7028375062499996\n",
      "16.0\n",
      "1.0187930562499998\n",
      "16.5\n",
      "0.8932932499999999\n",
      "17.0\n",
      "1.04172713125\n",
      "17.5\n",
      "0.3709201\n",
      "18.0\n",
      "1.15003075\n",
      "18.5\n",
      "0.628329525\n",
      "19.0\n",
      "0.73713830625\n",
      "19.5\n",
      "0.23829330624999995\n",
      "20.0\n",
      "0.10997197499999997\n",
      "20.5\n",
      "0.747457225\n",
      "21.0\n",
      "0.5586530000000002\n",
      "21.5\n",
      "1.0068105249999997\n",
      "22.0\n",
      "2240.0173187812497\n",
      "22.5\n",
      "0.06861784999999997\n",
      "23.0\n",
      "0.016280556250000005\n",
      "23.5\n",
      "0.004117875\n",
      "24.0\n",
      "0.019125506249999993\n",
      "24.5\n",
      "0.00072218125\n",
      "25.0\n",
      "0.00014988125000000001\n",
      "25.5\n",
      "8.664999999999994e-05\n",
      "26.0\n",
      "0.000159725\n",
      "26.5\n"
     ]
    },
    {
     "data": {
      "image/png": "[encoded data removed]",
      "text/plain": [
       "<Figure size 432x288 with 1 Axes>"
      ]
     },
     "metadata": {
      "needs_background": "light"
     },
     "output_type": "display_data"
    }
   ],
   "source": [
    "delta_time_stimations = []\n",
    "var = []\n",
    "snr = []\n",
    "samples_p = [[0 for i in range(cols)] for j in range(10)]\n",
    "\n",
    "Rx_I_aux = np.zeros(10*int(PRI/step)+1) #10 pulsos recibidos\n",
    "sample_shift = int(delta_t/step) #Cuantas muestras se debe shiftear el pulso recibido de acuerdo a la distancia que representa\n",
    "\n",
    "for i in range(10):\n",
    "    Rx_I_aux[i*int(PRI/step)+sample_shift:i*int(PRI/step)+sample_shift+int(pulse_length/step)+1] = ret_pulse #Señal shifteada\n",
    "\n",
    "np.random.seed(123)\n",
    "\n",
    "for i in range(50): #number of runs to make graph\n",
    "    delta_time_stimations = []  #Delta time stimations for a noise with var of i*10**-7\n",
    "    \n",
    "    \n",
    "    for j in range(10):  #number of samples per run\n",
    "        snr_dB = 2 + i*(0.5)  # SNR en decibelios\n",
    "        snr_linear = 10 ** (snr_dB / 10.0)  # Convertir SNR a escala lineal\n",
    "\n",
    "        # Generar ruido gaussiano\n",
    "        potencia_ruido = np.var(Tx_I) / snr_linear\n",
    "        ruido = np.random.normal(0, np.sqrt(potencia_ruido), len(t)+1)\n",
    "        \n",
    "        samples_p[j] = (Rx_I_aux[:int(PRI/step)]*10**5)  + ruido[:int(PRI/step)] \n",
    "        #samples_p[j] = (Rx_I_aux[:int(PRI/step)]*10**5)  + np.random.normal(0,(10**-2+(1+i)*10**-4.6),len(Rx_I[:int(PRI/step)]))\n",
    "    \n",
    "    con2 =  [[0 for i in range(cols)] for j in range(rows)] #matrix with convolutioned signals\n",
    "    \n",
    "    for j in range(10): #passing through the matched filter\n",
    "        con2[j] = matched_filter(Tx_I[0:int(pulse_length/step)+1],samples_p[j])\n",
    "    \n",
    "    max_i = con2[0][0]\n",
    "    index_max_j_p = 0\n",
    "    max_con_p = []            \n",
    "    \n",
    "    for z in range(10): #loops through every delta time stimation in each run\n",
    "        max_i = 0 \n",
    "        for j in range(len(con2[z])):\n",
    "            if(con2[z][j]>max_i):\n",
    "                max_i = con2[z][j]\n",
    "                index_max_j_p = j - int(pulse_length/step)\n",
    "        delta_time_stimations.append(t[index_max_j_p])\n",
    "        max_con_p.append(t[index_max_j_p])\n",
    "    print(np.std(delta_time_stimations)**2 * 10000000)    \n",
    "    print(snr_dB)\n",
    "    snr.append(snr_dB)\n",
    "    var.append(np.std(delta_time_stimations)**2)\n",
    "    #print(np.std(delta_time_stimations)**2)\n",
    "\n",
    "plt.plot(var,'.-')\n",
    "#plt.plot(con2[0])\n",
    "#plt.plot(samples_p[0])\n",
    "plt.grid()"
   ]
  },
  {
   "cell_type": "code",
   "execution_count": 42,
   "id": "088a36f3",
   "metadata": {},
   "outputs": [
    {
     "name": "stdout",
     "output_type": "stream",
     "text": [
      "200000\n"
     ]
    },
    {
     "data": {
      "image/png": "[encoded data removed]",
      "text/plain": [
       "<Figure size 432x288 with 2 Axes>"
      ]
     },
     "metadata": {
      "needs_background": "light"
     },
     "output_type": "display_data"
    }
   ],
   "source": [
    "#plot signal\n",
    "fig, [ax1,ax2] = plt.subplots(nrows =2, ncols = 1)\n",
    "ax1.plot(t[000:400],Tx_I[000:400],'.-')\n",
    "ax2.plot(t[00:1600],con[5][00:1600],'.-')\n",
    "#ax2.plot(t[00:10000],Tx_Q[00:10000],'.-')\n",
    "#x2.plot(t[:1000],rxSignal[:1000],'.-')\n",
    "#ax3.plot(frec_plot[0:6000],f_plot[0:6000],'.-')\n",
    "print(samples)\n",
    "plt.grid()\n",
    "plt.show()"
   ]
  },
  {
   "cell_type": "code",
   "execution_count": 100,
   "id": "cf3bc750",
   "metadata": {
    "scrolled": true
   },
   "outputs": [
    {
     "ename": "NameError",
     "evalue": "name 'sdr' is not defined",
     "output_type": "error",
     "traceback": [
      "\u001b[0;31m---------------------------------------------------------------------------\u001b[0m",
      "\u001b[0;31mNameError\u001b[0m                                 Traceback (most recent call last)",
      "Input \u001b[0;32mIn [100]\u001b[0m, in \u001b[0;36m<cell line: 2>\u001b[0;34m()\u001b[0m\n\u001b[1;32m      1\u001b[0m \u001b[38;5;66;03m# Since it is not possible to turn off Tx, it is configured to transmit at low power and on a different frequency than Rx.\u001b[39;00m\n\u001b[0;32m----> 2\u001b[0m \u001b[43msdr\u001b[49m\u001b[38;5;241m.\u001b[39mtx_destroy_buffer()\n\u001b[1;32m      3\u001b[0m TxAtten  \u001b[38;5;241m=\u001b[39m \u001b[38;5;241m-\u001b[39m\u001b[38;5;241m70\u001b[39m\n\u001b[1;32m      4\u001b[0m RxLOFreq \u001b[38;5;241m=\u001b[39m \u001b[38;5;241m2400e6\u001b[39m\n",
      "\u001b[0;31mNameError\u001b[0m: name 'sdr' is not defined"
     ]
    }
   ],
   "source": [
    "# Since it is not possible to turn off Tx, it is configured to transmit at low power and on a different frequency than Rx.\n",
    "sdr.tx_destroy_buffer()\n",
    "TxAtten  = -70\n",
    "RxLOFreq = 2400e6\n",
    "sdr.tx(np.zeros(1024))"
   ]
  },
  {
   "cell_type": "code",
   "execution_count": 53,
   "id": "b2a9c3e3",
   "metadata": {},
   "outputs": [],
   "source": [
    "# Destroy radio object\n",
    "del(sdr)"
   ]
  },
  {
   "cell_type": "code",
   "execution_count": null,
   "id": "edcbbf60",
   "metadata": {},
   "outputs": [],
   "source": []
  }
 ],
 "metadata": {
  "kernelspec": {
   "display_name": "Python 3 (ipykernel)",
   "language": "python",
   "name": "python3"
  },
  "language_info": {
   "codemirror_mode": {
    "name": "ipython",
    "version": 3
   },
   "file_extension": ".py",
   "mimetype": "text/x-python",
   "name": "python",
   "nbconvert_exporter": "python",
   "pygments_lexer": "ipython3",
   "version": "3.9.7"
  }
 },
 "nbformat": 4,
 "nbformat_minor": 5
}
